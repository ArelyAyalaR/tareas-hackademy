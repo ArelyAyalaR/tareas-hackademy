{
 "cells": [
  {
   "cell_type": "markdown",
   "metadata": {},
   "source": [
    "# Ejercicios Semanales de Programación en Python\n"
   ]
  },
  {
   "cell_type": "code",
   "execution_count": null,
   "metadata": {},
   "outputs": [],
   "source": [
    "# Sitio web oficial de Python: https://www.python.org/"
   ]
  },
  {
   "cell_type": "markdown",
   "metadata": {},
   "source": [
    "### 1. Formas de crear comentarios"
   ]
  },
  {
   "cell_type": "markdown",
   "metadata": {},
   "source": [
    "- Comentarios en línea: el comentario explica la función del código en la misma declaración que el código."
   ]
  },
  {
   "cell_type": "code",
   "execution_count": null,
   "metadata": {},
   "outputs": [],
   "source": [
    "print(4 + 6)  # Imprime en pantalla una suma"
   ]
  },
  {
   "cell_type": "markdown",
   "metadata": {},
   "source": [
    "- Comentarios en bloque: se utilizan para describir la lógica compleja del código. Los comentarios en bloque se construyen de forma similar a los comentarios en línea, la única diferencia es que los comentarios en bloque se escriben en una línea aparte."
   ]
  },
  {
   "cell_type": "code",
   "execution_count": 26,
   "metadata": {},
   "outputs": [
    {
     "name": "stdout",
     "output_type": "stream",
     "text": [
      "1\n",
      "2\n",
      "4\n",
      "5\n"
     ]
    }
   ],
   "source": [
    "# Este script imprime los números del 1 al 5,\n",
    "# pero omite el número 3.\n",
    "\n",
    "# Crear una lista de números del 1 al 5\n",
    "numeros = [1, 2, 3, 4, 5]\n",
    "\n",
    "# Iterar sobre cada número en la lista\n",
    "for numero in numeros:\n",
    "    # Verificar si el número no es 3\n",
    "    if numero != 3:\n",
    "        # Imprimir el número si no es 3\n",
    "        print(numero)\n",
    "\n"
   ]
  },
  {
   "cell_type": "markdown",
   "metadata": {},
   "source": [
    "- Comentarios Multilínea: Se pueden crear a partir de varios comentarios de una sola línea precediendo cada línea con #. También se puede utilizar la sintaxis de cadenas multilínea."
   ]
  },
  {
   "cell_type": "code",
   "execution_count": 25,
   "metadata": {},
   "outputs": [
    {
     "data": {
      "text/plain": [
       "'\\nEste es un comentario multilínea\\nusando triple comillas dobles. \\n'"
      ]
     },
     "execution_count": 25,
     "metadata": {},
     "output_type": "execute_result"
    }
   ],
   "source": [
    "\"\"\"\n",
    "Este es un comentario multilínea\n",
    "usando triple comillas dobles. \n",
    "\"\"\"\n",
    "# Este es un comentario multilínea\n",
    "# usando múltiples líneas de comentarios."
   ]
  },
  {
   "cell_type": "markdown",
   "metadata": {},
   "source": [
    "### 2. Variables"
   ]
  },
  {
   "cell_type": "markdown",
   "metadata": {},
   "source": [
    "- Crea una variable (y una constante si el lenguaje lo soporta)."
   ]
  },
  {
   "cell_type": "code",
   "execution_count": 2,
   "metadata": {},
   "outputs": [],
   "source": [
    "nombre = \"Arely\"\n",
    "IP_DB_SERVER = \"127.0.0.1\""
   ]
  },
  {
   "cell_type": "markdown",
   "metadata": {},
   "source": [
    "- Crea variables representando todos los tipos de datos primitivos del lenguaje."
   ]
  },
  {
   "cell_type": "code",
   "execution_count": 2,
   "metadata": {},
   "outputs": [
    {
     "name": "stdout",
     "output_type": "stream",
     "text": [
      "4598\n",
      "<class 'int'>\n",
      "\n",
      "\n",
      "369.432\n",
      "<class 'float'>\n",
      "\n",
      "\n",
      "Soy una string\n",
      "<class 'str'>\n",
      "\n",
      "\n",
      "True\n",
      "<class 'bool'>\n",
      "\n",
      "\n",
      "(1+2j)\n",
      "<class 'complex'>\n",
      "\n",
      "\n"
     ]
    }
   ],
   "source": [
    "# Este es un número entero\n",
    "var_int = 4598\n",
    "print(var_int)\n",
    "print(type(var_int))\n",
    "print(\"\\n\")\n",
    "\n",
    "# Este es un número decimal\n",
    "var_float = 369.432\n",
    "print(var_float)\n",
    "print(type(var_float))\n",
    "print(\"\\n\")\n",
    "\n",
    "# Esta es una string\n",
    "var_string = \"Soy una string\"\n",
    "print(var_string)\n",
    "print(type(var_string))\n",
    "print(\"\\n\")\n",
    "\n",
    "# Este es un booleano\n",
    "var_bool = True\n",
    "print(var_bool)\n",
    "print(type(var_bool))\n",
    "print(\"\\n\")\n",
    "\n",
    "# Este es un número complejo\n",
    "var_complex = 1 + 2j\n",
    "print(var_complex)\n",
    "print(type(var_complex))\n",
    "print(\"\\n\")"
   ]
  },
  {
   "cell_type": "markdown",
   "metadata": {},
   "source": [
    "- Imprime por terminal el texto: \"¡Hola, [y el nombre de tu lenguaje]!\""
   ]
  },
  {
   "cell_type": "code",
   "execution_count": 3,
   "metadata": {},
   "outputs": [
    {
     "name": "stdout",
     "output_type": "stream",
     "text": [
      "¡Hola, Python!\n"
     ]
    }
   ],
   "source": [
    "print(\"¡Hola, Python!\")"
   ]
  },
  {
   "cell_type": "markdown",
   "metadata": {},
   "source": [
    "### 3. Operadores"
   ]
  },
  {
   "cell_type": "markdown",
   "metadata": {},
   "source": [
    "- Crea ejemplos utilizando todos los tipos de operadores de tu lenguaje."
   ]
  },
  {
   "cell_type": "code",
   "execution_count": 3,
   "metadata": {},
   "outputs": [
    {
     "name": "stdout",
     "output_type": "stream",
     "text": [
      "Suma: 13\n",
      "Resta: 7\n",
      "Multiplicación: 30\n",
      "División: 3.3333333333333335\n",
      "Módulo: 1\n",
      "Exponente: 1000\n",
      "Cociente: 3\n"
     ]
    }
   ],
   "source": [
    "# Definir variables 'x' y 'y'.\n",
    "x, y = 10, 3\n",
    "# Operadores aritméticos\n",
    "print(\"Suma:\", x + y)   \n",
    "print(\"Resta:\", x - y)  \n",
    "print(\"Multiplicación:\", x * y)  \n",
    "print(\"División:\", x / y)  \n",
    "print(\"Módulo:\", x % y)  \n",
    "print(\"Exponente:\", x ** y) \n",
    "print(\"Cociente:\", x // y)  "
   ]
  },
  {
   "cell_type": "code",
   "execution_count": 4,
   "metadata": {},
   "outputs": [
    {
     "name": "stdout",
     "output_type": "stream",
     "text": [
      "Igual a: False\n",
      "No igual a: True\n",
      "Mayor que: True\n"
     ]
    }
   ],
   "source": [
    "# Operadores relacionales\n",
    "print(\"Igual a:\", x == y)  \n",
    "print(\"No igual a:\", x != y)  \n",
    "print(\"Mayor que:\", x > y)  "
   ]
  },
  {
   "cell_type": "code",
   "execution_count": 5,
   "metadata": {},
   "outputs": [
    {
     "name": "stdout",
     "output_type": "stream",
     "text": [
      "AND lógico: True\n",
      "OR lógico: True\n",
      "NOT lógico: False\n"
     ]
    }
   ],
   "source": [
    "# Operadores lógicos\n",
    "print(\"AND lógico:\", (x > y) and (x < 15))  \n",
    "print(\"OR lógico:\", (x > y) or (x < 5))  \n",
    "print(\"NOT lógico:\", not (x > y))  "
   ]
  },
  {
   "cell_type": "code",
   "execution_count": 6,
   "metadata": {},
   "outputs": [
    {
     "name": "stdout",
     "output_type": "stream",
     "text": [
      "x incrementado: 15\n",
      "x decrementado: 10\n",
      "x multiplicado: 20\n",
      "x dividido: 5.0\n",
      "x módulo: 2.0\n",
      "x potenciado: 8.0\n",
      "x cociente: 2.0\n",
      "7\n",
      "7\n"
     ]
    }
   ],
   "source": [
    "# Operadores de asignación\n",
    "x += 5  # x ahora es 15\n",
    "print(\"x incrementado:\", x)  \n",
    "x -= 5  # x ahora es 10\n",
    "print(\"x decrementado:\", x)  \n",
    "x *= 2  # x ahora es 20\n",
    "print(\"x multiplicado:\", x)  \n",
    "x /= 4  # x ahora es 5.0\n",
    "print(\"x dividido:\", x)  \n",
    "x %= 3  # x ahora es 2.0\n",
    "print(\"x módulo:\", x)  \n",
    "x **= 3  # x ahora es 8.0\n",
    "print(\"x potenciado:\", x)  \n",
    "x //= 3  # x ahora es 2.0\n",
    "print(\"x cociente:\", x)  \n",
    "\n",
    "# Operador Walrus\n",
    "x = 5\n",
    "print(y := x + 2) \n",
    "# 'y' ahora contiene el resultado de la suma, y 'x' sigue siendo 5\n",
    "\n",
    "# Equivalente a:\n",
    "x = 5\n",
    "y = x + 2\n",
    "print(y)"
   ]
  },
  {
   "cell_type": "markdown",
   "metadata": {},
   "source": [
    "### 4. Estructuras de Control"
   ]
  },
  {
   "cell_type": "markdown",
   "metadata": {},
   "source": [
    "- Utilizando las operaciones con operadores que tú quieras, crea ejemplos que representen todos los tipos de estructuras de control."
   ]
  },
  {
   "cell_type": "code",
   "execution_count": 20,
   "metadata": {},
   "outputs": [
    {
     "name": "stdout",
     "output_type": "stream",
     "text": [
      "Eres mayor de edad.\n",
      "La cadena no está vacía.\n",
      "El número es par.\n"
     ]
    }
   ],
   "source": [
    "# Verificar si una persona es mayor de edad\n",
    "edad = 20\n",
    "if edad >= 18:\n",
    "    print(\"Eres mayor de edad.\")\n",
    "\n",
    "# Verificar si una cadena no está vacía\n",
    "cadena = \"Hola, mundo\"\n",
    "if cadena:\n",
    "    print(\"La cadena no está vacía.\")\n",
    "\n",
    "# Verificar si un número es par\n",
    "numero = 4\n",
    "if numero % 2 == 0:\n",
    "    print(\"El número es par.\")"
   ]
  },
  {
   "cell_type": "code",
   "execution_count": 23,
   "metadata": {},
   "outputs": [
    {
     "name": "stdout",
     "output_type": "stream",
     "text": [
      "0\n",
      "1\n",
      "2\n",
      "3\n",
      "4\n",
      "--------------------------------------------------------\n",
      "0\n",
      "2\n",
      "4\n",
      "6\n",
      "8\n",
      "10\n",
      "--------------------------------------------------------\n",
      "H\n",
      "o\n",
      "l\n",
      "a\n",
      "--------------------------------------------------------\n",
      "5\n",
      "4\n",
      "3\n",
      "2\n",
      "1\n"
     ]
    }
   ],
   "source": [
    "# Iterar sobre un rango de números del 0 al 4\n",
    "for i in range(5):\n",
    "    print(i)\n",
    "\n",
    "print('--------------------------------------------------------')\n",
    "# Iterar sobre un rango de números del 0 al 10 con un paso de 2\n",
    "for i in range(0, 11, 2):\n",
    "    print(i)\n",
    "\n",
    "print('--------------------------------------------------------')\n",
    "# Iterar sobre cada carácter de una cadena\n",
    "cadena = \"Hola\"\n",
    "for caracter in cadena:\n",
    "    print(caracter)\n",
    "\n",
    "print('--------------------------------------------------------')\n",
    "# Iterar sobre un rango de números del 5 al 1 en orden inverso\n",
    "for i in range(5, 0, -1):\n",
    "    print(i)"
   ]
  },
  {
   "cell_type": "markdown",
   "metadata": {},
   "source": [
    "### 5. Ejercicios"
   ]
  },
  {
   "cell_type": "markdown",
   "metadata": {},
   "source": [
    "- Crea un programa que imprima por consola todos los números comprendidos entre 10 y 100 (incluidos), pares, y que no son ni el 66 ni múltiplos de 3."
   ]
  },
  {
   "cell_type": "code",
   "execution_count": 19,
   "metadata": {},
   "outputs": [
    {
     "name": "stdout",
     "output_type": "stream",
     "text": [
      "10\n",
      "14\n",
      "16\n",
      "20\n",
      "22\n",
      "26\n",
      "28\n",
      "32\n",
      "34\n",
      "38\n",
      "40\n",
      "44\n",
      "46\n",
      "50\n",
      "52\n",
      "56\n",
      "58\n",
      "62\n",
      "64\n",
      "68\n",
      "70\n",
      "74\n",
      "76\n",
      "80\n",
      "82\n",
      "86\n",
      "88\n",
      "92\n",
      "94\n",
      "98\n",
      "100\n"
     ]
    }
   ],
   "source": [
    "contador = 10\n",
    "while contador <= 100:\n",
    "    if contador % 2 == 0:\n",
    "        # El número no es 66 ni múltiplo de 3\n",
    "        if contador != 66 and contador % 3 != 0:\n",
    "            print(contador)\n",
    "    contador += 1\n",
    "\n"
   ]
  },
  {
   "cell_type": "markdown",
   "metadata": {},
   "source": [
    "- Crea un programa en el que el usuario ingrese la fecha y obtenga cuantos días faltan para día de muertos y navidad."
   ]
  },
  {
   "cell_type": "code",
   "execution_count": 8,
   "metadata": {},
   "outputs": [],
   "source": [
    "from datetime import datetime"
   ]
  },
  {
   "cell_type": "code",
   "execution_count": 18,
   "metadata": {},
   "outputs": [
    {
     "name": "stdout",
     "output_type": "stream",
     "text": [
      "Días hasta Día de Muertos: 73.\n",
      "Días hasta Navidad: 126.\n"
     ]
    }
   ],
   "source": [
    "fecha_usuario = input('Ingresa una fecha en formato dd-mm-yyyy: ')\n",
    "formato_fecha = datetime.strptime(fecha_usuario, '%d/%m/%Y')\n",
    "\n",
    "# Extraer año de la fecha ingresada\n",
    "anio_fecha_ingresada = formato_fecha.year\n",
    "\n",
    "# Fechas destino\n",
    "dia_muertos = f'02/11/{anio_fecha_ingresada}'\n",
    "dia_navidad = f'25/12/{anio_fecha_ingresada}'\n",
    "muertos_formato = datetime.strptime(dia_muertos, '%d/%m/%Y')\n",
    "navidad_formato = datetime.strptime(dia_navidad, '%d/%m/%Y')\n",
    "\n",
    "# Calcular diferencias\n",
    "resta_muertos = muertos_formato - formato_fecha\n",
    "resta_navidad = navidad_formato - formato_fecha\n",
    "\n",
    "print(f'Días hasta Día de Muertos: {resta_muertos.days}.')\n",
    "print(f'Días hasta Navidad: {resta_navidad.days}.')"
   ]
  },
  {
   "cell_type": "markdown",
   "metadata": {},
   "source": [
    "- Crea un programa que reciba del usuario una frase y te diga si es o no palíndromo."
   ]
  },
  {
   "cell_type": "code",
   "execution_count": null,
   "metadata": {},
   "outputs": [],
   "source": [
    "# Pendiente"
   ]
  },
  {
   "cell_type": "markdown",
   "metadata": {},
   "source": [
    "- Crea un programa que reciba del usuario una palabra o frase y la transforme a lenguaje leet."
   ]
  },
  {
   "cell_type": "code",
   "execution_count": null,
   "metadata": {},
   "outputs": [],
   "source": [
    "# Pendiente "
   ]
  },
  {
   "cell_type": "markdown",
   "metadata": {},
   "source": [
    "- Crea un programa que reciba del usuario un año y le responda si es o no bisiesto."
   ]
  },
  {
   "cell_type": "code",
   "execution_count": 7,
   "metadata": {},
   "outputs": [
    {
     "name": "stdout",
     "output_type": "stream",
     "text": [
      "El año 2000 es bisiesto.\n"
     ]
    }
   ],
   "source": [
    "anio_usuario = int(input('Ingresa un año: '))\n",
    "if(((anio_usuario / 4).is_integer() and not (anio_usuario / 100).is_integer()) or (anio_usuario / 400).is_integer()):\n",
    "    print(f'El año {anio_usuario} es bisiesto.')\n",
    "else:\n",
    "    print(f'El año {anio_usuario} no es bisiesto.')\n"
   ]
  }
 ],
 "metadata": {
  "kernelspec": {
   "display_name": "Python 3",
   "language": "python",
   "name": "python3"
  },
  "language_info": {
   "codemirror_mode": {
    "name": "ipython",
    "version": 3
   },
   "file_extension": ".py",
   "mimetype": "text/x-python",
   "name": "python",
   "nbconvert_exporter": "python",
   "pygments_lexer": "ipython3",
   "version": "3.11.9"
  }
 },
 "nbformat": 4,
 "nbformat_minor": 2
}
